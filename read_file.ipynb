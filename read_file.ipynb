{
  "nbformat": 4,
  "nbformat_minor": 0,
  "metadata": {
    "colab": {
      "name": "read_file.ipynb",
      "provenance": [],
      "toc_visible": true,
      "authorship_tag": "ABX9TyNQilTAv7xaJBzJcr+iiy9a",
      "include_colab_link": true
    },
    "kernelspec": {
      "name": "python3",
      "display_name": "Python 3"
    }
  },
  "cells": [
    {
      "cell_type": "markdown",
      "metadata": {
        "id": "view-in-github",
        "colab_type": "text"
      },
      "source": [
        "<a href=\"https://colab.research.google.com/github/akhetarpal/Python/blob/master/read_file.ipynb\" target=\"_parent\"><img src=\"https://colab.research.google.com/assets/colab-badge.svg\" alt=\"Open In Colab\"/></a>"
      ]
    },
    {
      "cell_type": "code",
      "metadata": {
        "id": "JXWfs6Zsngh2",
        "colab_type": "code",
        "colab": {}
      },
      "source": [
        "fhand=open('romeo.txt')\n",
        "count={}\n",
        "for line in fhand:\n",
        "  words=line.split()\n",
        "  for word in words:\n",
        "    count[word]=count.get(word,0)+ 1\n",
        "\n",
        "list=[]\n",
        "for k,v in count.items():\n",
        "  newt=(k,v)\n",
        "  list.append(newt)\n",
        "\n",
        "list=sorted(list,reverse=False)\n",
        "\n",
        "for v,k in list[:10]:\n",
        "  print(k,v)"
      ],
      "execution_count": 0,
      "outputs": []
    },
    {
      "cell_type": "markdown",
      "metadata": {
        "id": "Ib1i7POfntVU",
        "colab_type": "text"
      },
      "source": [
        "# New Section"
      ]
    }
  ]
}